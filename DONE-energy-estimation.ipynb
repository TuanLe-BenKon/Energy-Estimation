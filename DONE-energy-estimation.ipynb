{
 "cells": [
  {
   "cell_type": "code",
   "execution_count": 1,
   "metadata": {},
   "outputs": [],
   "source": [
    "import pandas as pd\n",
    "import numpy as np\n",
    "import seaborn as sns\n",
    "import matplotlib.pyplot as plt\n",
    "import os, glob, pathlib\n",
    "from zipfile import ZipFile\n",
    "from datetime import datetime as dt\n",
    "import re\n",
    "from scipy import stats\n",
    "from sklearn.metrics import mean_absolute_error, mean_squared_error, mean_absolute_percentage_error"
   ]
  },
  {
   "cell_type": "code",
   "execution_count": 2,
   "metadata": {},
   "outputs": [],
   "source": [
    "def convert_unit(dataframe):\n",
    "    dataframe['timestamp'] = dataframe['timestamp'].apply(lambda x: dt.fromtimestamp(x))\n",
    "    return dataframe\n",
    "\n",
    "def select_timestamp(dataframe, start_time, stop_time):\n",
    "    start_day, stop_day = start_time.date(), stop_time.date()\n",
    "    a = np.where(dataframe.columns.str.contains(r'^timestamp$'))[0]\n",
    "    timestamp_col = dataframe.columns[a].to_list()[0]\n",
    "    \n",
    "    if start_day == stop_day:\n",
    "        df = dataframe[(dataframe[timestamp_col] >= start_time) & (dataframe[timestamp_col] <= stop_time)]\n",
    "    elif start_day != stop_day:\n",
    "        df = dataframe[(dataframe[timestamp_col] >= start_time) & (dataframe[timestamp_col] <= stop_time)]\n",
    "    return df\n",
    "\n",
    "def plot_energy(df, start_day = '2022-01-28 0:00:00', stop_day = '2022-02-09 9:00:00'):\n",
    "    # Select the day that to export into csv\n",
    "    filtered_energy_df = df[(df['timestamp'] >= start_day) & (df['timestamp'] <= stop_day)].reset_index()\n",
    "\n",
    "    ############# Create list of tick ##############\n",
    "    timestamp = filtered_energy_df['timestamp'].dt.strftime('%d-%b-%Y %H:%M').to_numpy()\n",
    "    timestamp_tick = [int(i-1) for i in np.linspace(1, timestamp.shape[0], 18)]\n",
    "    timestamp_label = [timestamp[i] for i in timestamp_tick]\n",
    "    print(timestamp_tick)\n",
    "    ################################################\n",
    "\n",
    "    plt.figure(1, [30,10])\n",
    "    plt.plot(filtered_energy_df['power'], 'r')\n",
    "    plt.xticks(ticks=timestamp_tick, labels=timestamp_label, rotation=30, fontsize=20)\n",
    "    plt.grid(axis='x')\n",
    "    plt.twinx()\n",
    "    plt.plot(filtered_energy_df['energy'])\n",
    "\n",
    "def plot_sensor(df, start_day = '2022-01-28 0:00:00', stop_day = '2022-02-09 9:00:00'):\n",
    "    # Select the day that to export into csv\n",
    "    filtered_energy_df = df[(df['timestamp'] >= start_day) & (df['timestamp'] <= stop_day)].reset_index()\n",
    "\n",
    "    ############# Create list of tick ##############\n",
    "    timestamp = filtered_energy_df['timestamp'].dt.strftime('%d-%b-%Y %H:%M').to_numpy()\n",
    "    timestamp_tick = [int(i-1) for i in np.linspace(1, timestamp.shape[0], 18)]\n",
    "    timestamp_label = [timestamp[i] for i in timestamp_tick]\n",
    "    print(timestamp_tick)\n",
    "    ################################################\n",
    "\n",
    "    plt.figure(1, [30,10])\n",
    "    plt.plot(filtered_energy_df['temperature'], 'r')\n",
    "    plt.xticks(ticks=timestamp_tick, labels=timestamp_label, rotation=30, fontsize=20)\n",
    "    plt.grid(axis='x')\n",
    "    plt.twinx()\n",
    "    plt.plot(filtered_energy_df['humidity'])\n",
    "\n",
    "def remove_outlier(df_sensor):\n",
    "    # Finding z-score of each point\n",
    "    z_temp = abs(stats.zscore(df_sensor['temperature']))\n",
    "    z_humid = abs(stats.zscore(df_sensor['humidity']))\n",
    "\n",
    "    a_std = np.std(df_sensor['temperature'])\n",
    "    \n",
    "    print(f'Z-score of temperature data{np.where(z_temp > 2)}')\n",
    "    print(f'Z-score of humidity data{np.where(z_temp > 2)}')\n",
    "    a = df_sensor.iloc[np.where(z_temp > 2)]\n",
    "\n",
    "    index_list = a.index\n",
    "    for i in index_list:\n",
    "        # Replace with previous value\n",
    "        df_sensor['temperature'].iloc[i] = df_sensor['temperature'].iloc[i-1]\n",
    "        df_sensor['humidity'].iloc[i] = df_sensor['humidity'].iloc[i-1]\n",
    "\n",
    "    return df_sensor\n",
    "\n",
    "\n",
    "def extract_user(user):\n",
    "    current_user_path = all_user[all_user['User'] == user]\n",
    "    current_user_path = current_user_path['file path'].sort_values(ascending=True).to_list()\n",
    "\n",
    "    energy_user_path = [user_path for user_path in current_user_path if re.search(r'(energy|sensor)', user_path.split('/')[-1]).group() == 'energy']\n",
    "    sensor_user_path = [user_path for user_path in current_user_path if re.search(r'(energy|sensor)', user_path.split('/')[-1]).group() == 'sensor']\n",
    "\n",
    "    energy_df = pd.DataFrame()\n",
    "    for i in range(0,len(energy_user_path)-1,2):\n",
    "        df1 = pd.read_csv(energy_user_path[i], delimiter=',')\n",
    "        df2 = pd.read_csv(energy_user_path[i+1], delimiter=',')\n",
    "        energy_df = energy_df.append(pd.concat([df1,df2], axis=0))\n",
    "\n",
    "    energy_df = convert_unit(energy_df.reset_index()).drop(columns='index')\n",
    "    energy_df = energy_df.sort_values('timestamp', ascending=True).reset_index().drop(columns='index')\n",
    "\n",
    "    sensor_df = pd.DataFrame()\n",
    "    for i in range(0, len(sensor_user_path)-1,2):\n",
    "        df1 = pd.read_csv(sensor_user_path[i], delimiter=',')\n",
    "        df2 = pd.read_csv(sensor_user_path[i+1], delimiter=',')\n",
    "        sensor_df = sensor_df.append(pd.concat([df1,df2], axis=0))\n",
    "\n",
    "    sensor_df = convert_unit(sensor_df.reset_index()).drop(columns='index')\n",
    "    sensor_df = sensor_df.sort_values('timestamp', ascending=True).reset_index().drop(columns='index')\n",
    "    # Double check the data type of humidity\n",
    "    if sensor_df['humidity'].dtypes == 'object':\n",
    "        sensor_df['humidity']= sensor_df['humidity'].astype('float')\n",
    "    \n",
    "    return energy_df, sensor_df"
   ]
  },
  {
   "cell_type": "code",
   "execution_count": 3,
   "metadata": {},
   "outputs": [
    {
     "data": {
      "text/plain": [
       "TuanLe-lau2      54\n",
       "KAnh-phongnho    36\n",
       "Taddy            32\n",
       "KAnh-phonglon    30\n",
       "Liam             28\n",
       "TuanLe-lau4      28\n",
       "Michael          16\n",
       "Son              15\n",
       "Mic              12\n",
       "Nhat             12\n",
       "TienLe           10\n",
       "Benkon-daikin     9\n",
       "Huy               8\n",
       "Benkon-casper     4\n",
       "Name: User, dtype: int64"
      ]
     },
     "execution_count": 3,
     "metadata": {},
     "output_type": "execute_result"
    }
   ],
   "source": [
    "base_dir = 'warrior-data'\n",
    "\n",
    "# Create a list of user and thier file path\n",
    "user_list = [user for user in os.listdir(base_dir) if not user=='.DS_Store']\n",
    "\n",
    "all_user = pd.DataFrame({'User': [], 'file path': []})\n",
    "for user in user_list:\n",
    "    if os.path.isdir(os.path.join(base_dir,user)):\n",
    "        user_file = os.listdir(os.path.join(base_dir, user))\n",
    "        for user_file in user_file:\n",
    "            if user_file.split('.')[-1] in ('.csv'):\n",
    "                new_row = {'User': user, 'file path': os.path.join(base_dir, user) + '/' + user_file}\n",
    "                all_user = all_user.append(new_row, ignore_index=True)\n",
    "\n",
    "\n",
    "# user_df['file path'].drop('.DS_Store')\n",
    "all_user['User'].value_counts()"
   ]
  },
  {
   "cell_type": "code",
   "execution_count": 4,
   "metadata": {},
   "outputs": [],
   "source": [
    "user = 'TuanLe-lau2'\n",
    "energy_df, sensor_df = extract_user(user)"
   ]
  },
  {
   "cell_type": "code",
   "execution_count": 5,
   "metadata": {},
   "outputs": [
    {
     "name": "stdout",
     "output_type": "stream",
     "text": [
      "The number of duplicates: 0\n",
      "The number of duplicates: 1\n"
     ]
    }
   ],
   "source": [
    "################## Checking duplicate ##################\n",
    "a = energy_df.copy()\n",
    "b = sensor_df.copy()\n",
    "# display(a[a['timestamp'].duplicated()])\n",
    "########################################################\n",
    "\n",
    "\n",
    "################## Grouping the duplicates ##################\n",
    "a = a.groupby('timestamp')[['energy', 'power']].count().reset_index()\n",
    "b = b.groupby('timestamp')[['temperature', 'humidity']].count().reset_index()\n",
    "# display(a)\n",
    "#############################################################\n",
    "\n",
    "\n",
    "# # ################## Visualise the duplicates ##################\n",
    "a = a[a['energy'] > 2].sort_values('energy', ascending=False)\n",
    "print(f'The number of duplicates: {len(a)}')\n",
    "\n",
    "b = b[b['temperature'] > 2].sort_values('temperature', ascending=False)\n",
    "print(f'The number of duplicates: {len(b)}')\n",
    "##############################################################\n",
    "\n",
    "################## Handling the duplicates ##################\n",
    "df_energy = energy_df.groupby('timestamp')[['power','energy']].mean().reset_index()\n",
    "df_sensor = sensor_df.groupby('timestamp')[['temperature','humidity']].mean().reset_index()\n",
    "##############################################################"
   ]
  },
  {
   "cell_type": "code",
   "execution_count": 6,
   "metadata": {},
   "outputs": [
    {
     "name": "stdout",
     "output_type": "stream",
     "text": [
      "27530\n",
      "(array([    0,     1,     2, ..., 27527, 27528, 27529]),)\n",
      "standard deviation: 3.7008968526517805\n"
     ]
    },
    {
     "name": "stderr",
     "output_type": "stream",
     "text": [
      "/Users/tuanle/miniforge3/envs/ml30_recommender/lib/python3.9/site-packages/pandas/core/indexing.py:1732: SettingWithCopyWarning: \n",
      "A value is trying to be set on a copy of a slice from a DataFrame\n",
      "\n",
      "See the caveats in the documentation: https://pandas.pydata.org/pandas-docs/stable/user_guide/indexing.html#returning-a-view-versus-a-copy\n",
      "  self._setitem_single_block(indexer, value, name)\n"
     ]
    }
   ],
   "source": [
    "from scipy import stats\n",
    "\n",
    "# Finding z-score of each point\n",
    "z_temp = abs(stats.zscore(df_sensor['temperature']))\n",
    "z_humid = abs(stats.zscore(df_sensor['humidity']))\n",
    "print(len(z_temp))\n",
    "print(np.where(z_temp < 2))\n",
    "###########################################################################\n",
    "\n",
    "########## REMOVE OUTLIERS OF SENSOR DATA ##########\n",
    "a_std = np.std(df_sensor['temperature'])\n",
    "print(f'standard deviation: {a_std}')\n",
    "# display(np.where(z_temp > 2))\n",
    "a = df_sensor.iloc[np.where(z_temp > 2)]\n",
    "\n",
    "index_list = a.index\n",
    "for i in index_list:\n",
    "    # Replace with previous value\n",
    "    df_sensor['temperature'].iloc[i] = df_sensor['temperature'].iloc[i-1]\n",
    "    df_sensor['humidity'].iloc[i] = df_sensor['humidity'].iloc[i-1]"
   ]
  },
  {
   "cell_type": "code",
   "execution_count": 7,
   "metadata": {},
   "outputs": [],
   "source": [
    "# Create a list full of date\n",
    "date_list = pd.date_range(start=df_energy['timestamp'].min(), end=df_energy['timestamp'].max(), freq='30S').to_frame()\n",
    "date_list.rename(columns={0: 'timestamp'}, inplace=True)\n",
    "\n",
    "# Copy the original data and Full join with date_list\n",
    "new_energy_df = energy_df.copy().set_index('timestamp')\n",
    "new_energy_df = pd.merge(new_energy_df, date_list, how='outer', right_index=True, left_index=True)\n",
    "\n",
    "# Fill in NA value with previous data\n",
    "new_energy_df.fillna(method='ffill', inplace=True)"
   ]
  },
  {
   "cell_type": "code",
   "execution_count": 8,
   "metadata": {},
   "outputs": [],
   "source": [
    "# Create a list full of date\n",
    "date_list = pd.date_range(start=df_sensor['timestamp'].min(), end=df_sensor['timestamp'].max(), freq='30S').to_frame()\n",
    "date_list.rename(columns={0: 'timestamp'}, inplace=True)\n",
    "\n",
    "# Copy the original data and Full join with date_list\n",
    "new_sensor_df = sensor_df.copy().set_index('timestamp')\n",
    "new_sensor_df = pd.merge(new_sensor_df, date_list, how='outer', right_index=True, left_index=True)\n",
    "\n",
    "# Fill in NA value with previous data\n",
    "new_sensor_df.fillna(method='ffill', inplace=True)"
   ]
  },
  {
   "cell_type": "code",
   "execution_count": 9,
   "metadata": {},
   "outputs": [
    {
     "data": {
      "text/plain": [
       "<matplotlib.lines.Line2D at 0x1247d79a0>"
      ]
     },
     "execution_count": 9,
     "metadata": {},
     "output_type": "execute_result"
    },
    {
     "data": {
      "image/png": "[encoded data removed]",
      "text/plain": [
       "<Figure size 720x360 with 2 Axes>"
      ]
     },
     "metadata": {
      "needs_background": "light"
     },
     "output_type": "display_data"
    }
   ],
   "source": [
    "start_day = '2021-12-29 21:30:00'\n",
    "stop_day = '2021-12-30 9:00:00'\n",
    "\n",
    "filtered_energy_df = new_energy_df[(new_energy_df['timestamp'] >= start_day) &  (new_energy_df['timestamp'] <= stop_day)]\n",
    "filtered_energy_df = filtered_energy_df[['energy','power']].resample('30S').mean()\n",
    "\n",
    "saturation_timestamp = pd.to_datetime(start_day) + pd.to_timedelta(1, 'H')\n",
    "trigger_timestamp = pd.to_datetime(start_day) + pd.to_timedelta(4, 'H')\n",
    "\n",
    "plt.figure(1, [10,5])\n",
    "plt.plot(filtered_energy_df['energy'])\n",
    "plt.twinx()\n",
    "plt.plot(filtered_energy_df['power'], 'r')\n",
    "plt.axvline(x = saturation_timestamp, linestyle='--')\n",
    "plt.axvline(x = trigger_timestamp, linestyle='--', color='g')"
   ]
  },
  {
   "cell_type": "code",
   "execution_count": 10,
   "metadata": {},
   "outputs": [
    {
     "name": "stdout",
     "output_type": "stream",
     "text": [
      "Saturated Temperature Energy 15843.0 at 2021-12-29 22:30:00\n",
      "Trigger Energy 17538.0 at 2021-12-30 01:30:00\n",
      "estimated energy: 21775.5\n",
      "real energy: 19877.0\n",
      "Error: 1898.5\n",
      "Percentage different: 47.06246901338621%\n"
     ]
    }
   ],
   "source": [
    "saturation_timestamp = pd.to_datetime(start_day) + pd.to_timedelta(1, 'H')\n",
    "saturation_energy = filtered_energy_df[filtered_energy_df.index >= start_day].iloc[0]['energy']\n",
    "trigger_timestamp = pd.to_datetime(start_day) + pd.to_timedelta(4, 'H')\n",
    "trigger_energy = filtered_energy_df[filtered_energy_df.index >= trigger_timestamp].iloc[0]['energy']\n",
    "\n",
    "rate_of_change = (trigger_energy - saturation_energy) / (trigger_timestamp - saturation_timestamp).total_seconds()\n",
    "the_rest_of_time = (pd.to_datetime(stop_day) - trigger_timestamp).total_seconds()\n",
    "\n",
    "estimated_energy = rate_of_change * the_rest_of_time + trigger_energy\n",
    "energy_at_start = filtered_energy_df['energy'].iloc[0]\n",
    "energy_at_stop = filtered_energy_df['energy'].iloc[-1]\n",
    "\n",
    "print(f'Saturated Temperature Energy {saturation_energy} at {saturation_timestamp}')\n",
    "print(f'Trigger Energy {trigger_energy} at {trigger_timestamp}')\n",
    "\n",
    "print(f'estimated energy: {estimated_energy}')\n",
    "print(f'real energy: {energy_at_stop}')\n",
    "\n",
    "error = estimated_energy - energy_at_stop\n",
    "print(f'Error: {error}')\n",
    "\n",
    "percentage_diff = (error / (energy_at_stop - energy_at_start)) * 100\n",
    "print(f'Percentage different: {percentage_diff}%')"
   ]
  },
  {
   "cell_type": "code",
   "execution_count": 11,
   "metadata": {},
   "outputs": [
    {
     "data": {
      "text/plain": [
       "<matplotlib.legend.Legend at 0x1249807c0>"
      ]
     },
     "execution_count": 11,
     "metadata": {},
     "output_type": "execute_result"
    },
    {
     "data": {
      "image/png": "[encoded data removed]",
      "text/plain": [
       "<Figure size 720x288 with 1 Axes>"
      ]
     },
     "metadata": {
      "needs_background": "light"
     },
     "output_type": "display_data"
    }
   ],
   "source": [
    "srate = 60\n",
    "total_time = (pd.to_datetime(stop_day) - pd.to_datetime(start_day)).total_seconds()\n",
    "\n",
    "x = np.arange(0,total_time, srate)\n",
    "estimated_energy_line = rate_of_change * x + filtered_energy_df['energy'].iloc[0]\n",
    "estimated_energy_line.shape[0]\n",
    "\n",
    "plt.figure(1,[10,4])\n",
    "plt.plot(filtered_energy_df['energy'].to_numpy(), label='real')\n",
    "plt.plot(estimated_energy_line, label='estimation')\n",
    "plt.legend()"
   ]
  },
  {
   "cell_type": "code",
   "execution_count": null,
   "metadata": {},
   "outputs": [],
   "source": []
  }
 ],
 "metadata": {
  "interpreter": {
   "hash": "66926885004af4e0349cdfe9ac40b89eeac4e676502978d2d17a5ce217a34f2f"
  },
  "kernelspec": {
   "display_name": "Python 3 (ipykernel)",
   "language": "python",
   "name": "python3"
  },
  "language_info": {
   "codemirror_mode": {
    "name": "ipython",
    "version": 3
   },
   "file_extension": ".py",
   "mimetype": "text/x-python",
   "name": "python",
   "nbconvert_exporter": "python",
   "pygments_lexer": "ipython3",
   "version": "3.9.0"
  }
 },
 "nbformat": 4,
 "nbformat_minor": 2
}
